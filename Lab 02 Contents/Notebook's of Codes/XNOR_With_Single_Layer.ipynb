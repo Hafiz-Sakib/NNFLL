{
  "nbformat": 4,
  "nbformat_minor": 0,
  "metadata": {
    "colab": {
      "provenance": []
    },
    "kernelspec": {
      "name": "python3",
      "display_name": "Python 3"
    },
    "language_info": {
      "name": "python"
    }
  },
  "cells": [
    {
      "cell_type": "markdown",
      "source": [
        "**Custom Perceptron Code**"
      ],
      "metadata": {
        "id": "WpBIp3XVXJ8v"
      }
    },
    {
      "cell_type": "code",
      "source": [
        "import numpy as np\n",
        "import matplotlib.pyplot as plt\n",
        "\n",
        "class XNORPerceptron:\n",
        "    def __init__(self, learning_rate=0.1, epochs=100):\n",
        "        self.learning_rate = learning_rate\n",
        "        self.epochs = epochs\n",
        "        self.weights = None\n",
        "        self.bias = None\n",
        "\n",
        "    def activation(self, x):\n",
        "        return 1 if x >= 0 else 0  # Step function\n",
        "\n",
        "    def fit(self, X, y):\n",
        "        n_samples, n_features = X.shape\n",
        "        self.weights = np.zeros(n_features)\n",
        "        self.bias = 0\n",
        "\n",
        "        for _ in range(self.epochs):\n",
        "            for idx, x_i in enumerate(X):\n",
        "                linear_output = np.dot(x_i, self.weights) + self.bias\n",
        "                y_pred = self.activation(linear_output)\n",
        "                update = self.learning_rate * (y[idx] - y_pred)\n",
        "                self.weights += update * x_i\n",
        "                self.bias += update\n",
        "\n",
        "    def predict(self, X):\n",
        "        linear_output = np.dot(X, self.weights) + self.bias\n",
        "        return np.array([self.activation(x) for x in linear_output])"
      ],
      "metadata": {
        "id": "FOzzmWhMYWrd"
      },
      "execution_count": 1,
      "outputs": []
    },
    {
      "cell_type": "markdown",
      "source": [
        "**Train Data**"
      ],
      "metadata": {
        "id": "spolf6QHYltR"
      }
    },
    {
      "cell_type": "code",
      "source": [
        "# XNOR gate data\n",
        "X = np.array([[0, 0], [0, 1], [1, 0], [1, 1]])\n",
        "y = np.array([1, 0, 0, 1])  # XNOR output\n",
        "\n",
        "# Train (will not converge)\n",
        "perceptron = XNORPerceptron(learning_rate=0.1, epochs=100)\n",
        "perceptron.fit(X, y)\n",
        "\n",
        "print(\"XNOR Gate (Single-Layer):\")\n",
        "print(\"Weights:\", perceptron.weights)\n",
        "print(\"Bias:\", perceptron.bias)"
      ],
      "metadata": {
        "colab": {
          "base_uri": "https://localhost:8080/"
        },
        "id": "oavpweyGYoC7",
        "outputId": "959eb2ab-1aec-4dd1-aa7a-9b435bf085ba"
      },
      "execution_count": 2,
      "outputs": [
        {
          "output_type": "stream",
          "name": "stdout",
          "text": [
            "XNOR Gate (Single-Layer):\n",
            "Weights: [0.1 0. ]\n",
            "Bias: -0.1\n"
          ]
        }
      ]
    },
    {
      "cell_type": "markdown",
      "source": [],
      "metadata": {
        "id": "Uko2VAUZXJ7D"
      }
    },
    {
      "cell_type": "markdown",
      "source": [
        "**Plotting**"
      ],
      "metadata": {
        "id": "S_Hizs1iZ8Fg"
      }
    },
    {
      "cell_type": "code",
      "execution_count": 3,
      "metadata": {
        "colab": {
          "base_uri": "https://localhost:8080/",
          "height": 569
        },
        "id": "ZDgd-r6rS5SV",
        "outputId": "e41879be-133a-40bd-ab33-71ab730b6f8b"
      },
      "outputs": [
        {
          "output_type": "stream",
          "name": "stderr",
          "text": [
            "/tmp/ipython-input-3-4108718044.py:13: UserWarning: No artists with labels found to put in legend.  Note that artists whose label start with an underscore are ignored when legend() is called with no argument.\n",
            "  plt.legend()\n"
          ]
        },
        {
          "output_type": "display_data",
          "data": {
            "text/plain": [
              "<Figure size 400x400 with 1 Axes>"
            ],
            "image/png": "[encoded data removed]"
          },
          "metadata": {}
        },
        {
          "output_type": "stream",
          "name": "stdout",
          "text": [
            "\n",
            "Failed Predictions:\n",
            "Input: [0 0] -> Predicted: 0 (True: 1)\n",
            "Input: [0 1] -> Predicted: 0 (True: 0)\n",
            "Input: [1 0] -> Predicted: 1 (True: 0)\n",
            "Input: [1 1] -> Predicted: 1 (True: 1)\n"
          ]
        }
      ],
      "source": [
        "# Plotting (shows failure)\n",
        "plt.figure(figsize=(4, 4))\n",
        "plt.scatter(X[:, 0], X[:, 1], c=y, s=100, cmap='coolwarm')\n",
        "xx = np.linspace(-0.5, 1.5, 100)\n",
        "if perceptron.weights[1] != 0:\n",
        "    yy = (-perceptron.weights[0] / perceptron.weights[1]) * xx - (perceptron.bias / perceptron.weights[1])\n",
        "    plt.plot(xx, yy, 'k-', label='Failed Decision Boundary')\n",
        "else:\n",
        "    plt.axvline(x=-perceptron.bias/perceptron.weights[0], color='k')\n",
        "plt.xlabel(\"X1\")\n",
        "plt.ylabel(\"X2\")\n",
        "plt.title(\"XNOR Gate (Single-Layer Fails)\")\n",
        "plt.legend()\n",
        "plt.grid()\n",
        "plt.show()\n",
        "\n",
        "# Test predictions (will be incorrect)\n",
        "print(\"\\nFailed Predictions:\")\n",
        "for i, x in enumerate(X):\n",
        "    print(f\"Input: {x} -> Predicted: {perceptron.predict([x])[0]} (True: {y[i]})\")"
      ]
    }
  ]
}